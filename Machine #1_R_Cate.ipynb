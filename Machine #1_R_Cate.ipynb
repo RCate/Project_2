{
 "cells": [
  {
   "cell_type": "code",
   "execution_count": 1,
   "metadata": {},
   "outputs": [],
   "source": [
    "from sklearn import tree\n",
    "import pandas as pd\n",
    "import os"
   ]
  },
  {
   "cell_type": "code",
   "execution_count": 2,
   "metadata": {},
   "outputs": [],
   "source": [
    "df = pd.read_csv(os.path.join(\"PUF_FinalCSV.csv\"))\n",
    "df.head()\n",
    "df = df.fillna(0)"
   ]
  },
  {
   "cell_type": "code",
   "execution_count": 3,
   "metadata": {},
   "outputs": [],
   "source": [
    "data = df.drop(['Q35_EMPLOYED','Q36_FULL_TIME','Q43_JOB_LIC','Q40_BUSINESS_TYPE','PUF_ID','final_weight','STRATUM1','LANG','Q39_EARNINGS','Q49_RACE_07','Q15_D_SPECIFY_FLAG','Q34_A','Q30_APP_CERT_LIC','Q31_APP_CERTIFICATE','Q34_C', 'Q29_Q29_B_R','Q29_Q29_C_R','Q29_Q29_E_R', 'Q29_Q29_A_R', 'Q38_HOURS_WORKED','Q29_Q29_D_R','Q9_CERT_LIC','Q37_WEEKS_WORKED','Q49_RACE_05', 'Q15_D_SPECIFY_FLAG'], axis=1)"
   ]
  },
  {
   "cell_type": "code",
   "execution_count": 17,
   "metadata": {},
   "outputs": [],
   "source": [
    "columns = [\"Q3_Q3_A_R\",\"Q3_Q3_B_R\",\"Q3_Q3_C_R\",\"Q3_Q3_D_R\",\"Q3_Q3_E_R\",\"Q4_HIGHEST_EDU_FOS\",\"Q9_CERT_LIC\",\"Q45_GENDER\",\"Q47_AGE\",\"Q46_MARITAL_STATUS\"]"
   ]
  },
  {
   "cell_type": "code",
   "execution_count": 20,
   "metadata": {},
   "outputs": [
    {
     "data": {
      "text/html": [
       "<div>\n",
       "<style scoped>\n",
       "    .dataframe tbody tr th:only-of-type {\n",
       "        vertical-align: middle;\n",
       "    }\n",
       "\n",
       "    .dataframe tbody tr th {\n",
       "        vertical-align: top;\n",
       "    }\n",
       "\n",
       "    .dataframe thead th {\n",
       "        text-align: right;\n",
       "    }\n",
       "</style>\n",
       "<table border=\"1\" class=\"dataframe\">\n",
       "  <thead>\n",
       "    <tr style=\"text-align: right;\">\n",
       "      <th></th>\n",
       "      <th>Q3_Q3_A_R</th>\n",
       "      <th>Q3_Q3_B_R</th>\n",
       "      <th>Q3_Q3_C_R</th>\n",
       "      <th>Q3_Q3_D_R</th>\n",
       "      <th>Q3_Q3_E_R</th>\n",
       "      <th>Q4_HIGHEST_EDU_FOS</th>\n",
       "      <th>Q9_CERT_LIC</th>\n",
       "      <th>Q45_GENDER</th>\n",
       "      <th>Q47_AGE</th>\n",
       "      <th>Q46_MARITAL_STATUS</th>\n",
       "    </tr>\n",
       "  </thead>\n",
       "  <tbody>\n",
       "    <tr>\n",
       "      <th>0</th>\n",
       "      <td>0.0</td>\n",
       "      <td>0.0</td>\n",
       "      <td>0.0</td>\n",
       "      <td>0.0</td>\n",
       "      <td>0.0</td>\n",
       "      <td>0.0</td>\n",
       "      <td>1</td>\n",
       "      <td>1</td>\n",
       "      <td>48</td>\n",
       "      <td>1</td>\n",
       "    </tr>\n",
       "    <tr>\n",
       "      <th>1</th>\n",
       "      <td>0.0</td>\n",
       "      <td>0.0</td>\n",
       "      <td>0.0</td>\n",
       "      <td>0.0</td>\n",
       "      <td>0.0</td>\n",
       "      <td>1.0</td>\n",
       "      <td>1</td>\n",
       "      <td>2</td>\n",
       "      <td>50</td>\n",
       "      <td>3</td>\n",
       "    </tr>\n",
       "    <tr>\n",
       "      <th>2</th>\n",
       "      <td>0.0</td>\n",
       "      <td>0.0</td>\n",
       "      <td>0.0</td>\n",
       "      <td>0.0</td>\n",
       "      <td>0.0</td>\n",
       "      <td>0.0</td>\n",
       "      <td>1</td>\n",
       "      <td>2</td>\n",
       "      <td>61</td>\n",
       "      <td>3</td>\n",
       "    </tr>\n",
       "    <tr>\n",
       "      <th>3</th>\n",
       "      <td>0.0</td>\n",
       "      <td>0.0</td>\n",
       "      <td>0.0</td>\n",
       "      <td>0.0</td>\n",
       "      <td>0.0</td>\n",
       "      <td>15.0</td>\n",
       "      <td>1</td>\n",
       "      <td>2</td>\n",
       "      <td>36</td>\n",
       "      <td>5</td>\n",
       "    </tr>\n",
       "    <tr>\n",
       "      <th>4</th>\n",
       "      <td>1.0</td>\n",
       "      <td>2.0</td>\n",
       "      <td>1.0</td>\n",
       "      <td>1.0</td>\n",
       "      <td>1.0</td>\n",
       "      <td>12.0</td>\n",
       "      <td>1</td>\n",
       "      <td>1</td>\n",
       "      <td>28</td>\n",
       "      <td>5</td>\n",
       "    </tr>\n",
       "  </tbody>\n",
       "</table>\n",
       "</div>"
      ],
      "text/plain": [
       "   Q3_Q3_A_R  Q3_Q3_B_R  Q3_Q3_C_R  Q3_Q3_D_R  Q3_Q3_E_R  Q4_HIGHEST_EDU_FOS  \\\n",
       "0        0.0        0.0        0.0        0.0        0.0                 0.0   \n",
       "1        0.0        0.0        0.0        0.0        0.0                 1.0   \n",
       "2        0.0        0.0        0.0        0.0        0.0                 0.0   \n",
       "3        0.0        0.0        0.0        0.0        0.0                15.0   \n",
       "4        1.0        2.0        1.0        1.0        1.0                12.0   \n",
       "\n",
       "   Q9_CERT_LIC  Q45_GENDER  Q47_AGE  Q46_MARITAL_STATUS  \n",
       "0            1           1       48                   1  \n",
       "1            1           2       50                   3  \n",
       "2            1           2       61                   3  \n",
       "3            1           2       36                   5  \n",
       "4            1           1       28                   5  "
      ]
     },
     "execution_count": 20,
     "metadata": {},
     "output_type": "execute_result"
    }
   ],
   "source": [
    "\n",
    "data = df[columns]\n",
    "data.head()"
   ]
  },
  {
   "cell_type": "code",
   "execution_count": 21,
   "metadata": {},
   "outputs": [
    {
     "data": {
      "text/html": [
       "<div>\n",
       "<style scoped>\n",
       "    .dataframe tbody tr th:only-of-type {\n",
       "        vertical-align: middle;\n",
       "    }\n",
       "\n",
       "    .dataframe tbody tr th {\n",
       "        vertical-align: top;\n",
       "    }\n",
       "\n",
       "    .dataframe thead th {\n",
       "        text-align: right;\n",
       "    }\n",
       "</style>\n",
       "<table border=\"1\" class=\"dataframe\">\n",
       "  <thead>\n",
       "    <tr style=\"text-align: right;\">\n",
       "      <th></th>\n",
       "      <th>Q3_Q3_A_R</th>\n",
       "      <th>Q3_Q3_B_R</th>\n",
       "      <th>Q3_Q3_C_R</th>\n",
       "      <th>Q3_Q3_D_R</th>\n",
       "      <th>Q3_Q3_E_R</th>\n",
       "      <th>Q4_HIGHEST_EDU_FOS</th>\n",
       "      <th>Q9_CERT_LIC</th>\n",
       "      <th>Q45_GENDER</th>\n",
       "      <th>Q47_AGE</th>\n",
       "      <th>Q46_MARITAL_STATUS</th>\n",
       "    </tr>\n",
       "  </thead>\n",
       "  <tbody>\n",
       "    <tr>\n",
       "      <th>0</th>\n",
       "      <td>0.0</td>\n",
       "      <td>0.0</td>\n",
       "      <td>0.0</td>\n",
       "      <td>0.0</td>\n",
       "      <td>0.0</td>\n",
       "      <td>0.0</td>\n",
       "      <td>1</td>\n",
       "      <td>1</td>\n",
       "      <td>48</td>\n",
       "      <td>1</td>\n",
       "    </tr>\n",
       "    <tr>\n",
       "      <th>1</th>\n",
       "      <td>0.0</td>\n",
       "      <td>0.0</td>\n",
       "      <td>0.0</td>\n",
       "      <td>0.0</td>\n",
       "      <td>0.0</td>\n",
       "      <td>1.0</td>\n",
       "      <td>1</td>\n",
       "      <td>2</td>\n",
       "      <td>50</td>\n",
       "      <td>3</td>\n",
       "    </tr>\n",
       "    <tr>\n",
       "      <th>2</th>\n",
       "      <td>0.0</td>\n",
       "      <td>0.0</td>\n",
       "      <td>0.0</td>\n",
       "      <td>0.0</td>\n",
       "      <td>0.0</td>\n",
       "      <td>0.0</td>\n",
       "      <td>1</td>\n",
       "      <td>2</td>\n",
       "      <td>61</td>\n",
       "      <td>3</td>\n",
       "    </tr>\n",
       "    <tr>\n",
       "      <th>3</th>\n",
       "      <td>0.0</td>\n",
       "      <td>0.0</td>\n",
       "      <td>0.0</td>\n",
       "      <td>0.0</td>\n",
       "      <td>0.0</td>\n",
       "      <td>15.0</td>\n",
       "      <td>1</td>\n",
       "      <td>2</td>\n",
       "      <td>36</td>\n",
       "      <td>5</td>\n",
       "    </tr>\n",
       "    <tr>\n",
       "      <th>4</th>\n",
       "      <td>1.0</td>\n",
       "      <td>2.0</td>\n",
       "      <td>1.0</td>\n",
       "      <td>1.0</td>\n",
       "      <td>1.0</td>\n",
       "      <td>12.0</td>\n",
       "      <td>1</td>\n",
       "      <td>1</td>\n",
       "      <td>28</td>\n",
       "      <td>5</td>\n",
       "    </tr>\n",
       "  </tbody>\n",
       "</table>\n",
       "</div>"
      ],
      "text/plain": [
       "   Q3_Q3_A_R  Q3_Q3_B_R  Q3_Q3_C_R  Q3_Q3_D_R  Q3_Q3_E_R  Q4_HIGHEST_EDU_FOS  \\\n",
       "0        0.0        0.0        0.0        0.0        0.0                 0.0   \n",
       "1        0.0        0.0        0.0        0.0        0.0                 1.0   \n",
       "2        0.0        0.0        0.0        0.0        0.0                 0.0   \n",
       "3        0.0        0.0        0.0        0.0        0.0                15.0   \n",
       "4        1.0        2.0        1.0        1.0        1.0                12.0   \n",
       "\n",
       "   Q9_CERT_LIC  Q45_GENDER  Q47_AGE  Q46_MARITAL_STATUS  \n",
       "0            1           1       48                   1  \n",
       "1            1           2       50                   3  \n",
       "2            1           2       61                   3  \n",
       "3            1           2       36                   5  \n",
       "4            1           1       28                   5  "
      ]
     },
     "execution_count": 21,
     "metadata": {},
     "output_type": "execute_result"
    }
   ],
   "source": [
    "data.head()\n"
   ]
  },
  {
   "cell_type": "code",
   "execution_count": 22,
   "metadata": {},
   "outputs": [],
   "source": [
    "data = pd.get_dummies(data)"
   ]
  },
  {
   "cell_type": "code",
   "execution_count": 23,
   "metadata": {},
   "outputs": [],
   "source": [
    "feature_names = data.columns"
   ]
  },
  {
   "cell_type": "code",
   "execution_count": 24,
   "metadata": {},
   "outputs": [],
   "source": [
    "target = df[\"Q39_EARNINGS\"]"
   ]
  },
  {
   "cell_type": "code",
   "execution_count": 25,
   "metadata": {},
   "outputs": [],
   "source": [
    "from sklearn.model_selection import train_test_split\n",
    "X_train, X_test, y_train, y_test = train_test_split(data, target, random_state=42)"
   ]
  },
  {
   "cell_type": "code",
   "execution_count": 26,
   "metadata": {},
   "outputs": [
    {
     "data": {
      "text/plain": [
       "0.2060491493383743"
      ]
     },
     "execution_count": 26,
     "metadata": {},
     "output_type": "execute_result"
    }
   ],
   "source": [
    "clf = tree.DecisionTreeClassifier()\n",
    "clf = clf.fit(X_train, y_train)\n",
    "clf.score(X_test, y_test)"
   ]
  },
  {
   "cell_type": "code",
   "execution_count": 27,
   "metadata": {},
   "outputs": [
    {
     "data": {
      "text/plain": [
       "0.22117202268431002"
      ]
     },
     "execution_count": 27,
     "metadata": {},
     "output_type": "execute_result"
    }
   ],
   "source": [
    "from sklearn.ensemble import RandomForestClassifier\n",
    "rf = RandomForestClassifier(n_estimators=200)\n",
    "rf = rf.fit(X_train, y_train)\n",
    "rf.score(X_test, y_test)"
   ]
  },
  {
   "cell_type": "code",
   "execution_count": 28,
   "metadata": {},
   "outputs": [
    {
     "data": {
      "text/plain": [
       "[(0.4796147394934937, 'Q47_AGE'),\n",
       " (0.2685359564588982, 'Q4_HIGHEST_EDU_FOS'),\n",
       " (0.079609916005201, 'Q46_MARITAL_STATUS'),\n",
       " (0.034757533528948364, 'Q9_CERT_LIC'),\n",
       " (0.029496939773349617, 'Q45_GENDER'),\n",
       " (0.029273399553132934, 'Q3_Q3_A_R'),\n",
       " (0.023180929451687433, 'Q3_Q3_C_R'),\n",
       " (0.0216913650084288, 'Q3_Q3_B_R'),\n",
       " (0.017593931878496494, 'Q3_Q3_D_R'),\n",
       " (0.01624528884836329, 'Q3_Q3_E_R')]"
      ]
     },
     "execution_count": 28,
     "metadata": {},
     "output_type": "execute_result"
    }
   ],
   "source": [
    "sorted(zip(rf.feature_importances_, feature_names), reverse=True)"
   ]
  },
  {
   "cell_type": "code",
   "execution_count": null,
   "metadata": {},
   "outputs": [],
   "source": [
    "data1 = df.drop(['PUF_ID','final_weight','STRATUM1','LANG','Q39_EARNINGS','Q49_RACE_07','Q15_D_SPECIFY_FLAG','Q34_A','Q30_APP_CERT_LIC','Q31_APP_CERTIFICATE','Q34_C', 'Q29_Q29_B_R','Q29_Q29_C_R','Q29_Q29_E_R', 'Q29_Q29_A_R', 'Q29_Q29_D_R','Q9_CERT_LIC', 'Q49_RACE_05', 'Q15_D_SPECIFY_FLAG'], axis=1)"
   ]
  },
  {
   "cell_type": "code",
   "execution_count": null,
   "metadata": {},
   "outputs": [],
   "source": []
  }
 ],
 "metadata": {
  "kernelspec": {
   "display_name": "Python [conda env:PythonData]",
   "language": "python",
   "name": "conda-env-PythonData-py"
  },
  "language_info": {
   "codemirror_mode": {
    "name": "ipython",
    "version": 3
   },
   "file_extension": ".py",
   "mimetype": "text/x-python",
   "name": "python",
   "nbconvert_exporter": "python",
   "pygments_lexer": "ipython3",
   "version": "3.6.4"
  }
 },
 "nbformat": 4,
 "nbformat_minor": 2
}
